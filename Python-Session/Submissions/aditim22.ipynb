{
 "cells": [
  {
   "cell_type": "markdown",
   "metadata": {},
   "source": [
    "#### 1. Write a function that returns the maximum of two numbers."
   ]
  },
  {
   "cell_type": "code",
   "execution_count": 8,
   "metadata": {},
   "outputs": [
    {
     "name": "stdout",
     "output_type": "stream",
     "text": [
      "Enter first number: 78\n",
      "Enter second number: 2\n",
      "The maximum of two numbers is: 78\n"
     ]
    }
   ],
   "source": [
    "num1=int(input(\"Enter first number: \"))\n",
    "num2=int(input(\"Enter second number: \"))\n",
    "print(\"The maximum of two numbers is: \"+str(max(num1,num2)))"
   ]
  },
  {
   "cell_type": "markdown",
   "metadata": {},
   "source": [
    "#### 2. Write a function called fizz_buzz that takes a number. • If the number is divisible by 3, it should return “Fizz”. • If it is divisible by 5, it should return “Buzz”. • If it is divisible by both 3 and 5, it should return “FizzBuzz”. • Otherwise, it should return the same number."
   ]
  },
  {
   "cell_type": "code",
   "execution_count": 10,
   "metadata": {},
   "outputs": [
    {
     "name": "stdout",
     "output_type": "stream",
     "text": [
      "Enter a number: 2\n"
     ]
    },
    {
     "data": {
      "text/plain": [
       "2"
      ]
     },
     "execution_count": 10,
     "metadata": {},
     "output_type": "execute_result"
    }
   ],
   "source": [
    "def fizz_buzz(num):\n",
    "    if(num%3==0):\n",
    "        return \"Fizz\"\n",
    "    elif(num%5==0):\n",
    "        return \"Buzz\"\n",
    "    elif(num%3==0 & num%5==0):\n",
    "        return \"FizzBuzz\"\n",
    "    else:\n",
    "        return num\n",
    "#end of function\n",
    "\n",
    "num=int(input(\"Enter a number: \"))\n",
    "fizz_buzz(num)"
   ]
  },
  {
   "cell_type": "markdown",
   "metadata": {},
   "source": [
    "#### 3. Write a function for checking the speed of drivers. This function should have one parameter: speed. • If speed is less than 70, it should print “Ok”. • Otherwise, for every 5km above the speed limit (70), it should give the driver one demerit point and print the total number of demerit points. For example, if the speed is 80, it should print: “Points: 2”. • If the driver gets more than 12 points, the function should print: “License suspended” "
   ]
  },
  {
   "cell_type": "code",
   "execution_count": 11,
   "metadata": {},
   "outputs": [
    {
     "name": "stdout",
     "output_type": "stream",
     "text": [
      "Enter the speed: 100\n",
      "Points: 6\n"
     ]
    }
   ],
   "source": [
    "def check_speed(sp):\n",
    "    count=0\n",
    "    if(sp<70):\n",
    "        print(\"OK\")\n",
    "    elif(sp>70):\n",
    "        x=int(sp/5)\n",
    "        demerit=x-14\n",
    "        print(\"Points: \"+str(demerit))\n",
    "    if(demerit>12):\n",
    "        print(\"License suspended\")\n",
    "#end of function\n",
    "\n",
    "sp=int(input(\"Enter the speed: \"))\n",
    "check_speed(sp)"
   ]
  },
  {
   "cell_type": "markdown",
   "metadata": {},
   "source": [
    "#### 4. Write a function called showNumbers that takes a parameter called limit. It should print all the numbers between 0 and limit with a label to identify the even and odd numbers. For example, if the limit is 3, it should print: • 0 EVEN • 1 ODD • 2 EVEN • 3 ODD "
   ]
  },
  {
   "cell_type": "code",
   "execution_count": 6,
   "metadata": {},
   "outputs": [
    {
     "name": "stdout",
     "output_type": "stream",
     "text": [
      "Enter the limit: 10\n",
      "0 EVEN\n",
      "1 ODD\n",
      "2 EVEN\n",
      "3 ODD\n",
      "4 EVEN\n",
      "5 ODD\n",
      "6 EVEN\n",
      "7 ODD\n",
      "8 EVEN\n",
      "9 ODD\n",
      "10 EVEN\n"
     ]
    }
   ],
   "source": [
    "def showNumbers(limit):\n",
    "    for i in range(0,limit+1):\n",
    "        if(i%2==0):\n",
    "            print(str(i)+\" EVEN\")\n",
    "        else:\n",
    "            print(str(i)+\" ODD\")\n",
    "        \n",
    "limit=int(input(\"Enter the limit: \"))\n",
    "showNumbers(limit)"
   ]
  },
  {
   "cell_type": "markdown",
   "metadata": {},
   "source": [
    "#### 5. Write a function that returns the sum of multiples of 3 and 5 between 0 and limit (parameter). For example, if limit is 20, it should return the sum of 3, 5, 6, 9, 10, 12, 15, 18, 20. "
   ]
  },
  {
   "cell_type": "code",
   "execution_count": 12,
   "metadata": {},
   "outputs": [
    {
     "name": "stdout",
     "output_type": "stream",
     "text": [
      "Enter the limit: 20\n",
      "The sum is: 98\n"
     ]
    }
   ],
   "source": [
    "def sum_num(limit):\n",
    "    sum=0\n",
    "    for i in range(0,limit+1):\n",
    "        if(i%3==0 or i%5==0):\n",
    "            sum+=i\n",
    "    print(\"The sum is: \"+str(sum))\n",
    "\n",
    "limit=int(input(\"Enter the limit: \"))\n",
    "sum_num(limit)"
   ]
  }
 ],
 "metadata": {
  "kernelspec": {
   "display_name": "Python 3",
   "language": "python",
   "name": "python3"
  },
  "language_info": {
   "codemirror_mode": {
    "name": "ipython",
    "version": 3
   },
   "file_extension": ".py",
   "mimetype": "text/x-python",
   "name": "python",
   "nbconvert_exporter": "python",
   "pygments_lexer": "ipython3",
   "version": "3.8.3"
  }
 },
 "nbformat": 4,
 "nbformat_minor": 4
}
