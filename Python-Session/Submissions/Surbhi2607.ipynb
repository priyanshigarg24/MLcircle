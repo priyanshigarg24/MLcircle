{
 "cells": [
  {
   "cell_type": "code",
   "execution_count": 1,
   "metadata": {},
   "outputs": [
    {
     "name": "stdout",
     "output_type": "stream",
     "text": [
      "5\n",
      "6\n",
      "6\n"
     ]
    }
   ],
   "source": [
    "#Write a function that returns maximum of two numbers\n",
    "def maxnum(x,y):\n",
    "    if x>y:\n",
    "        return x\n",
    "    elif x==y:\n",
    "        return 'equal numbers'\n",
    "    else:\n",
    "        return y\n",
    "x=int(input())\n",
    "y=int(input())\n",
    "print(maxnum(x,y))"
   ]
  },
  {
   "cell_type": "code",
   "execution_count": 2,
   "metadata": {},
   "outputs": [
    {
     "name": "stdout",
     "output_type": "stream",
     "text": [
      "30\n",
      "FizzBuzz\n"
     ]
    }
   ],
   "source": [
    "#Write a function called fizz_buzz that takes a number\n",
    "def fizz_buzz(x):\n",
    "    if x%3==0 and x%5==0:\n",
    "        return \"FizzBuzz\"\n",
    "    elif x%3==0:\n",
    "        return \"Fizz\"\n",
    "    elif x%5==0:\n",
    "        return \"Buzz\"\n",
    "    else:\n",
    "        return x\n",
    "x=int(input())\n",
    "print(fizz_buzz(x))"
   ]
  },
  {
   "cell_type": "code",
   "execution_count": 3,
   "metadata": {},
   "outputs": [
    {
     "name": "stdout",
     "output_type": "stream",
     "text": [
      "Enter Speed160\n",
      "18.0\n",
      "License suspended\n"
     ]
    }
   ],
   "source": [
    "#Write a function for checking the speed of drivers\n",
    "def checkspeed(x):\n",
    "    if x<70:\n",
    "        return \"ok\"\n",
    "    else:\n",
    "        y=(x-70)/5\n",
    "        print(y)\n",
    "        if(y>12):\n",
    "            return \"License suspended\"\n",
    "        else:\n",
    "            return \"\"\n",
    "    \n",
    "x=int(input(\"Enter Speed\"))\n",
    "print(checkspeed(x))  "
   ]
  },
  {
   "cell_type": "code",
   "execution_count": 4,
   "metadata": {},
   "outputs": [
    {
     "name": "stdout",
     "output_type": "stream",
     "text": [
      "5\n",
      "0 Even\n",
      "1 Odd\n",
      "2 Even\n",
      "3 Odd\n",
      "4 Even\n",
      "5 Odd\n"
     ]
    }
   ],
   "source": [
    "#Write a function called ShowNumbers\n",
    "def ShowNumbers(x):\n",
    "    for i in range(x+1):\n",
    "        if i%2==0:\n",
    "            print(i,\"Even\")\n",
    "        else:\n",
    "            print(i,\"Odd\")\n",
    "x=int(input())\n",
    "ShowNumbers(x)"
   ]
  },
  {
   "cell_type": "code",
   "execution_count": 5,
   "metadata": {},
   "outputs": [
    {
     "name": "stdout",
     "output_type": "stream",
     "text": [
      "20\n",
      "98\n"
     ]
    }
   ],
   "source": [
    "#Write a function that returns the sum of multiples of 3 and 5 between 0and limit\n",
    "def summultiple(x):\n",
    "    sum=0\n",
    "    for i in range(x+1):\n",
    "        if i%3==0:\n",
    "            sum+=i\n",
    "        elif i%5==0:\n",
    "            sum+=i\n",
    "        elif i%3==0 and i%5==0:\n",
    "            sum-=i\n",
    "    return sum\n",
    "x=int(input())\n",
    "print(summultiple(x))\n",
    "        "
   ]
  },
  {
   "cell_type": "code",
   "execution_count": null,
   "metadata": {},
   "outputs": [],
   "source": []
  }
 ],
 "metadata": {
  "kernelspec": {
   "display_name": "Python 3",
   "language": "python",
   "name": "python3"
  },
  "language_info": {
   "codemirror_mode": {
    "name": "ipython",
    "version": 3
   },
   "file_extension": ".py",
   "mimetype": "text/x-python",
   "name": "python",
   "nbconvert_exporter": "python",
   "pygments_lexer": "ipython3",
   "version": "3.8.3"
  }
 },
 "nbformat": 4,
 "nbformat_minor": 4
}
