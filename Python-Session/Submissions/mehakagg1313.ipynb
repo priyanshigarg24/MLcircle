{
 "cells": [
  {
   "cell_type": "markdown",
   "metadata": {},
   "source": [
    "<h1 align=\"center\">Session 2 </h1>\n",
    "<h2 align=\"center\">Python Assignment</h2>"
   ]
  },
  {
   "cell_type": "markdown",
   "metadata": {},
   "source": [
    "**Note: Feel free to add more cells for answers.**\n",
    "\n",
    "   **After writing the functions, call them with a sample input for us to see the output.** "
   ]
  },
  {
   "cell_type": "markdown",
   "metadata": {},
   "source": [
    "### Ques 1) Write a function that returns the maximum of two numbers."
   ]
  },
  {
   "cell_type": "code",
   "execution_count": 1,
   "metadata": {},
   "outputs": [
    {
     "name": "stdout",
     "output_type": "stream",
     "text": [
      "enter number12 21\n",
      "maximum no. is  21\n"
     ]
    }
   ],
   "source": [
    "n1,n2=input('enter number').split()\n",
    "n1=int(n1)\n",
    "n2=int(n2)\n",
    "if n1>n2:\n",
    "    print('maximum no. is ',n1)\n",
    "else:\n",
    "    print('maximum no. is ',n2)\n"
   ]
  },
  {
   "cell_type": "markdown",
   "metadata": {},
   "source": [
    "### Ques 2) Write a function called **fizz_buzz** that takes a number.\n",
    "* If the number is divisible by 3, it should return “Fizz”.\n",
    "* If it is divisible by 5, it should return “Buzz”.\n",
    "* If it is divisible by both 3 and 5, it should return “FizzBuzz”.\n",
    "* Otherwise, it should return the same number."
   ]
  },
  {
   "cell_type": "code",
   "execution_count": 2,
   "metadata": {},
   "outputs": [
    {
     "name": "stdout",
     "output_type": "stream",
     "text": [
      "enter a number25\n",
      "buzz\n"
     ]
    }
   ],
   "source": [
    "n=int(input('enter a number'))\n",
    "def fizz_buzz(n):\n",
    "    if n%3==0:\n",
    "        return 'fizz'\n",
    "    elif n%5==0:\n",
    "        return 'buzz'\n",
    "    elif(n%3==0 and n%5==0):\n",
    "        return 'fizzbuzz'\n",
    "    else:\n",
    "        return n\n",
    "print(fizz_buzz(n))\n",
    "        "
   ]
  },
  {
   "cell_type": "markdown",
   "metadata": {},
   "source": [
    "### Ques 3) Write a function for checking the speed of drivers. This function should have one parameter: speed.\n",
    "* If speed is less than 70, it should print “Ok”.\n",
    "* Otherwise, for every 5km above the speed limit (70), it should give the driver one demerit point and print the total number of demerit points. For example, if the speed is 80, it should print: “Points: 2”.\n",
    "* If the driver gets more than 12 points, the function should print: “License suspended”"
   ]
  },
  {
   "cell_type": "code",
   "execution_count": 3,
   "metadata": {},
   "outputs": [
    {
     "name": "stdout",
     "output_type": "stream",
     "text": [
      "enter the speed:80\n",
      "Demrit points:  66.0\n"
     ]
    }
   ],
   "source": [
    "def speed(s):\n",
    "    d=0\n",
    "    if s<=70:\n",
    "        print('ok')\n",
    "    elif s >= 75 and s % 5 == 0:\n",
    "        d += s-75/5 +1;\n",
    "        print(\"Demrit points: \",d)\n",
    "    elif d >= 12:\n",
    "        print(\"Licanse is suspended\")\n",
    "s=int(input(\"enter the speed:\"))\n",
    "speed(s)\n"
   ]
  },
  {
   "cell_type": "markdown",
   "metadata": {},
   "source": [
    "### Ques 4) Write a function called showNumbers that takes a parameter called limit. It should print all the numbers between 0 and limit with a label to identify the even and odd numbers. For example, if the limit is 3, it should print:\n",
    "* 0 EVEN\n",
    "* 1 ODD\n",
    "* 2 EVEN\n",
    "* 3 ODD"
   ]
  },
  {
   "cell_type": "code",
   "execution_count": 7,
   "metadata": {},
   "outputs": [
    {
     "name": "stdout",
     "output_type": "stream",
     "text": [
      "enter a number:10\n",
      "0  EVEN\n",
      "1  ODD\n",
      "2  EVEN\n",
      "3  ODD\n",
      "4  EVEN\n",
      "5  ODD\n",
      "6  EVEN\n",
      "7  ODD\n",
      "8  EVEN\n",
      "9  ODD\n",
      "10  EVEN\n"
     ]
    }
   ],
   "source": [
    "def shownumber(limit):\n",
    "    for i in range(limit+1):\n",
    "        if i%2==0:\n",
    "            print(i,' EVEN')\n",
    "        else:\n",
    "            print(i, ' ODD')\n",
    "n=int(input('enter a number:'))\n",
    "shownumber(n)"
   ]
  },
  {
   "cell_type": "markdown",
   "metadata": {},
   "source": [
    "### Ques 5) Write a function that returns the sum of multiples of 3 or 5 between 0 and limit (parameter). \n",
    "### For example, if limit is 20, it should return the sum of 3, 5, 6, 9, 10, 12, 15, 18, 20."
   ]
  },
  {
   "cell_type": "code",
   "execution_count": 6,
   "metadata": {},
   "outputs": [
    {
     "name": "stdout",
     "output_type": "stream",
     "text": [
      "enter a number:20\n",
      "98\n"
     ]
    }
   ],
   "source": [
    "def num(limit):\n",
    "    sum = 0\n",
    "    for i in range(0,limit+1):\n",
    "        if i%3==0 or i%5==0:\n",
    "            sum +=i\n",
    "    print(sum)\n",
    "limit=int(input('enter a number:'))\n",
    "num(limit)"
   ]
  },
  {
   "cell_type": "code",
   "execution_count": null,
   "metadata": {},
   "outputs": [],
   "source": []
  }
 ],
 "metadata": {
  "kernelspec": {
   "display_name": "Python 3",
   "language": "python",
   "name": "python3"
  },
  "language_info": {
   "codemirror_mode": {
    "name": "ipython",
    "version": 3
   },
   "file_extension": ".py",
   "mimetype": "text/x-python",
   "name": "python",
   "nbconvert_exporter": "python",
   "pygments_lexer": "ipython3",
   "version": "3.8.5"
  }
 },
 "nbformat": 4,
 "nbformat_minor": 4
}
