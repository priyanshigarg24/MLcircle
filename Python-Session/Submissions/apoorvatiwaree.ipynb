{
 "cells": [
  {
   "cell_type": "markdown",
   "metadata": {},
   "source": [
    "<h1 align=\"center\">Session 2 </h1>\n",
    "<h2 align=\"center\">Python Assignment</h2>"
   ]
  },
  {
   "cell_type": "markdown",
   "metadata": {},
   "source": [
    "**Note: Feel free to add more cells for answers.**"
   ]
  },
  {
   "cell_type": "markdown",
   "metadata": {},
   "source": [
    "### Ques 1) Write a function that returns the maximum of two numbers."
   ]
  },
  {
   "cell_type": "code",
   "execution_count": 6,
   "metadata": {},
   "outputs": [],
   "source": [
    "#considering the given numbers aren't equal\n",
    "def maximum(a,b):\n",
    "    if a>b:\n",
    "        return a\n",
    "    else:\n",
    "        return b"
   ]
  },
  {
   "cell_type": "markdown",
   "metadata": {},
   "source": [
    "### Ques 2) Write a function called **fizz_buzz** that takes a number.\n",
    "* If the number is divisible by 3, it should return “Fizz”.\n",
    "* If it is divisible by 5, it should return “Buzz”.\n",
    "* If it is divisible by both 3 and 5, it should return “FizzBuzz”.\n",
    "* Otherwise, it should return the same number."
   ]
  },
  {
   "cell_type": "code",
   "execution_count": 5,
   "metadata": {},
   "outputs": [],
   "source": [
    "def fizz_buzz(num):\n",
    "    if num%15==0:\n",
    "        return \"FizzBuzz\"\n",
    "    elif num%3==0:\n",
    "        return \"Fizz\"\n",
    "    elif num%5==0:\n",
    "        return \"Buzz\"\n",
    "    else:\n",
    "        return num\n",
    "    "
   ]
  },
  {
   "cell_type": "markdown",
   "metadata": {},
   "source": [
    "### Ques 3) Write a function for checking the speed of drivers. This function should have one parameter: speed.\n",
    "* If speed is less than 70, it should print “Ok”.\n",
    "* Otherwise, for every 5km above the speed limit (70), it should give the driver one demerit point and print the total number of demerit points. For example, if the speed is 80, it should print: “Points: 2”.\n",
    "* If the driver gets more than 12 points, the function should print: “License suspended”"
   ]
  },
  {
   "cell_type": "code",
   "execution_count": 4,
   "metadata": {},
   "outputs": [],
   "source": [
    "def check_speed(speed):\n",
    "    if speed<70:\n",
    "        print('Ok')\n",
    "    else :\n",
    "        x=(speed-70)/5\n",
    "        if x>12:\n",
    "            print(\"License suspended\")\n",
    "            \n",
    "        else:\n",
    "            print(\"Points:\",x)"
   ]
  },
  {
   "cell_type": "markdown",
   "metadata": {},
   "source": [
    "### Ques 4) Write a function called showNumbers that takes a parameter called limit. It should print all the numbers between 0 and limit with a label to identify the even and odd numbers. For example, if the limit is 3, it should print:\n",
    "* 0 EVEN\n",
    "* 1 ODD\n",
    "* 2 EVEN\n",
    "* 3 ODD"
   ]
  },
  {
   "cell_type": "code",
   "execution_count": 3,
   "metadata": {},
   "outputs": [],
   "source": [
    "def showNumbers(limit):\n",
    "    for i in range(limit+1):\n",
    "        if i%2==0:\n",
    "            print(i,\"EVEN\")\n",
    "        else:\n",
    "            print(i,\"ODD\")"
   ]
  },
  {
   "cell_type": "markdown",
   "metadata": {},
   "source": [
    "### Ques 5) Write a function that returns the sum of multiples of 3 and 5 between 0 and limit (parameter). \n",
    "### For example, if limit is 20, it should return the sum of 3, 5, 6, 9, 10, 12, 15, 18, 20."
   ]
  },
  {
   "cell_type": "code",
   "execution_count": 2,
   "metadata": {},
   "outputs": [
    {
     "data": {
      "text/plain": [
       "98"
      ]
     },
     "execution_count": 2,
     "metadata": {},
     "output_type": "execute_result"
    }
   ],
   "source": [
    "def summation(limit):\n",
    "    result=0\n",
    "    for i in range(limit+1):\n",
    "        if i%3==0 or i%5==0:\n",
    "            result+=i\n",
    "    return result\n",
    "\n"
   ]
  },
  {
   "cell_type": "code",
   "execution_count": null,
   "metadata": {},
   "outputs": [],
   "source": []
  }
 ],
 "metadata": {
  "kernelspec": {
   "display_name": "Python 3",
   "language": "python",
   "name": "python3"
  },
  "language_info": {
   "codemirror_mode": {
    "name": "ipython",
    "version": 3
   },
   "file_extension": ".py",
   "mimetype": "text/x-python",
   "name": "python",
   "nbconvert_exporter": "python",
   "pygments_lexer": "ipython3",
   "version": "3.8.5"
  }
 },
 "nbformat": 4,
 "nbformat_minor": 4
}
