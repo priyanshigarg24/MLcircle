{
 "cells": [
  {
   "cell_type": "markdown",
   "metadata": {},
   "source": [
    "####  1. Write a function that returns the maximum of two numbers."
   ]
  },
  {
   "cell_type": "code",
   "execution_count": 1,
   "metadata": {},
   "outputs": [],
   "source": [
    "def max(a,b):\n",
    "    if a<b:\n",
    "        print(\"MAXIMUM NUMBER : \"+str(b))\n",
    "    elif b<a:\n",
    "        print(\"MAXIMUM NUMBER : \"+str(a))\n"
   ]
  },
  {
   "cell_type": "markdown",
   "metadata": {},
   "source": [
    "#### 2. Write a function called fizz_buzz that takes a number.\n",
    "• If the number is divisible by 3, it should return “Fizz”.\n",
    "• If it is divisible by 5, it should return “Buzz”.\n",
    "• If it is divisible by both 3 and 5, it should return “FizzBuzz”.\n",
    "• Otherwise, it should return the same number "
   ]
  },
  {
   "cell_type": "code",
   "execution_count": 8,
   "metadata": {},
   "outputs": [],
   "source": [
    "def fizz_buzz(c):\n",
    "    if (c%3==0 and c%5!=0):\n",
    "        return \"Fizz\"\n",
    "    elif (c%5==0 and c%3!=0):\n",
    "        return \"Buzz\"\n",
    "    elif (c%3==0 and c%5==0):\n",
    "        return \"FizzBuzz\"\n",
    "    else:\n",
    "        return c"
   ]
  },
  {
   "cell_type": "markdown",
   "metadata": {},
   "source": [
    "#### 3. Write a function for checking the speed of drivers. This function should have one\n",
    "parameter: speed.\n",
    "• If speed is less than 70, it should print “Ok”.\n",
    "• Otherwise, for every 5km above the speed limit (70), it should give the\n",
    "driver one demerit point and print the total number of demerit points. For\n",
    "example, if the speed is 80, it should print: “Points: 2”.\n",
    "• If the driver gets more than 12 points, the function should print: “License\n",
    "suspended” "
   ]
  },
  {
   "cell_type": "code",
   "execution_count": 9,
   "metadata": {},
   "outputs": [],
   "source": [
    "def speed(speed):\n",
    "    if speed<=70:\n",
    "        print(\"OK\")\n",
    "    else:\n",
    "        demerit = (speed-70)//5\n",
    "        print(\"Points: \"+str(demerit))\n",
    "        if demerit>12:\n",
    "            print(\"License suspended\")"
   ]
  },
  {
   "cell_type": "markdown",
   "metadata": {},
   "source": [
    "#### 4. Write a function called showNumbers that takes a parameter called limit. It\n",
    "should print all the numbers between 0 and limit with a label to identify the even\n",
    "and odd numbers. For example, if the limit is 3, it should print:\n",
    "• 0 EVEN\n",
    "• 1 ODD\n",
    "• 2 EVEN\n",
    "• 3 ODD "
   ]
  },
  {
   "cell_type": "code",
   "execution_count": 12,
   "metadata": {},
   "outputs": [],
   "source": [
    "def showNumbers(limit):\n",
    "    for i in range(0,limit+1):\n",
    "        if (i%2==0):\n",
    "            print(\"*\"+str(i)+\" EVEN\")\n",
    "        else:\n",
    "            print(\"*\"+str(i)+\" ODD\")"
   ]
  },
  {
   "cell_type": "markdown",
   "metadata": {},
   "source": [
    "#### 5. Write a function that returns the sum of multiples of 3 and 5 between 0\n",
    "and limit (parameter). For example, if limit is 20, it should return the sum of 3, 5,\n",
    "6, 9, 10, 12, 15, 18, 20. "
   ]
  },
  {
   "cell_type": "code",
   "execution_count": 19,
   "metadata": {},
   "outputs": [],
   "source": [
    "def sum_3(lim):\n",
    "    sume=0\n",
    "    for i in range(1,lim):\n",
    "        if i%3==0:\n",
    "            sume+=i\n",
    "    sume+=lim\n",
    "    return sume"
   ]
  },
  {
   "cell_type": "code",
   "execution_count": null,
   "metadata": {},
   "outputs": [],
   "source": []
  }
 ],
 "metadata": {
  "kernelspec": {
   "display_name": "Python 3",
   "language": "python",
   "name": "python3"
  },
  "language_info": {
   "codemirror_mode": {
    "name": "ipython",
    "version": 3
   },
   "file_extension": ".py",
   "mimetype": "text/x-python",
   "name": "python",
   "nbconvert_exporter": "python",
   "pygments_lexer": "ipython3",
   "version": "3.8.5"
  }
 },
 "nbformat": 4,
 "nbformat_minor": 4
}
