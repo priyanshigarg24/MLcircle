{
 "cells": [
  {
   "cell_type": "markdown",
   "metadata": {},
   "source": [
    "### QUES 1"
   ]
  },
  {
   "cell_type": "code",
   "execution_count": 24,
   "metadata": {},
   "outputs": [],
   "source": [
    "def maximum(a,b):\n",
    "    if(a>b):\n",
    "        return a\n",
    "    else:\n",
    "        return b"
   ]
  },
  {
   "cell_type": "code",
   "execution_count": 25,
   "metadata": {},
   "outputs": [
    {
     "name": "stdout",
     "output_type": "stream",
     "text": [
      "enter two numbers to find the greatest: -5 8\n",
      "maximum is 8\n"
     ]
    }
   ],
   "source": [
    "a,b=input(\"enter two numbers to find the greatest: \").split()\n",
    "max_no=maximum(int(a),int(b))\n",
    "print('maximum is',max_no)"
   ]
  },
  {
   "cell_type": "markdown",
   "metadata": {},
   "source": [
    "### QUES 2"
   ]
  },
  {
   "cell_type": "code",
   "execution_count": 11,
   "metadata": {},
   "outputs": [],
   "source": [
    "def fizz_buzz(no):\n",
    "    if(no%3==0 and no%5!=0):\n",
    "        a='Fizz'\n",
    "    elif(no%5==0 and no%3!=0):\n",
    "        a='Buzz'\n",
    "    elif(no%3==0 and no%5==0):\n",
    "        a='FizzBuzz'\n",
    "    else:\n",
    "        a=no\n",
    "        \n",
    "    return a"
   ]
  },
  {
   "cell_type": "code",
   "execution_count": 12,
   "metadata": {},
   "outputs": [
    {
     "name": "stdout",
     "output_type": "stream",
     "text": [
      "enter any number: 30\n",
      "FizzBuzz\n"
     ]
    }
   ],
   "source": [
    "n=int(input('enter any number: '))\n",
    "print(fizz_buzz(n))"
   ]
  },
  {
   "cell_type": "markdown",
   "metadata": {},
   "source": [
    "### QUES 3"
   ]
  },
  {
   "cell_type": "code",
   "execution_count": 21,
   "metadata": {},
   "outputs": [],
   "source": [
    "def check_speed(speed):\n",
    "    if(speed<=70):\n",
    "        print('OK')\n",
    "        demerit_points=0\n",
    "    else:\n",
    "        demerit_points=(speed-70)//5\n",
    "        print('demerit points are',demerit_points)\n",
    "    \n",
    "    if(demerit_points>12):\n",
    "        print('License suspended')"
   ]
  },
  {
   "cell_type": "code",
   "execution_count": 20,
   "metadata": {},
   "outputs": [
    {
     "name": "stdout",
     "output_type": "stream",
     "text": [
      "enter the speed of vehicle: 95\n",
      "demerit points are 5\n"
     ]
    }
   ],
   "source": [
    "speed=int(input('enter the speed of vehicle: '))\n",
    "check_speed(speed)"
   ]
  },
  {
   "cell_type": "markdown",
   "metadata": {},
   "source": [
    "### QUES 4"
   ]
  },
  {
   "cell_type": "code",
   "execution_count": 22,
   "metadata": {},
   "outputs": [],
   "source": [
    "def showNumbers(limit):\n",
    "    for i in range(0,limit+1):\n",
    "        if(i%2==0):\n",
    "            print(i,\"EVEN\")\n",
    "        else:\n",
    "            print(i,'ODD')"
   ]
  },
  {
   "cell_type": "code",
   "execution_count": 23,
   "metadata": {},
   "outputs": [
    {
     "name": "stdout",
     "output_type": "stream",
     "text": [
      "enter any number: 5\n",
      "0 EVEN\n",
      "1 ODD\n",
      "2 EVEN\n",
      "3 ODD\n",
      "4 EVEN\n",
      "5 ODD\n"
     ]
    }
   ],
   "source": [
    "num=int(input('enter any number: '))\n",
    "showNumbers(num)"
   ]
  },
  {
   "cell_type": "markdown",
   "metadata": {},
   "source": [
    "### QUES 5"
   ]
  },
  {
   "cell_type": "code",
   "execution_count": 26,
   "metadata": {},
   "outputs": [],
   "source": [
    "def ret_sum(limit):\n",
    "    sum=0\n",
    "    for i in range(0,limit+1):\n",
    "        if(i%3==0 or i%5==0):\n",
    "            sum=sum+i\n",
    "            \n",
    "    return sum"
   ]
  },
  {
   "cell_type": "code",
   "execution_count": 28,
   "metadata": {},
   "outputs": [
    {
     "name": "stdout",
     "output_type": "stream",
     "text": [
      "enter any number: 20\n",
      "sum is 98\n"
     ]
    }
   ],
   "source": [
    "lim=int(input('enter any number: '))\n",
    "print(\"sum is\",ret_sum(lim))"
   ]
  },
  {
   "cell_type": "code",
   "execution_count": null,
   "metadata": {},
   "outputs": [],
   "source": []
  }
 ],
 "metadata": {
  "kernelspec": {
   "display_name": "Python 3",
   "language": "python",
   "name": "python3"
  },
  "language_info": {
   "codemirror_mode": {
    "name": "ipython",
    "version": 3
   },
   "file_extension": ".py",
   "mimetype": "text/x-python",
   "name": "python",
   "nbconvert_exporter": "python",
   "pygments_lexer": "ipython3",
   "version": "3.8.5"
  }
 },
 "nbformat": 4,
 "nbformat_minor": 4
}
