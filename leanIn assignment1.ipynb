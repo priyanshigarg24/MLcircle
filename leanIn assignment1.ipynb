{
 "cells": [
  {
   "cell_type": "markdown",
   "metadata": {},
   "source": [
    "#### write a function that returns the maximum of two numbers. "
   ]
  },
  {
   "cell_type": "code",
   "execution_count": 2,
   "metadata": {},
   "outputs": [
    {
     "name": "stdout",
     "output_type": "stream",
     "text": [
      "enter two numbers: 4 7\n",
      "maximum number is 7\n"
     ]
    }
   ],
   "source": [
    "def maximum(a,b):\n",
    "    if(a>b):\n",
    "        return a\n",
    "    else:\n",
    "        return b\n",
    "a,b=input(\"enter two numbers: \").split()\n",
    "m=maximum(int(a),int(b))\n",
    "print('maximum number is',m)"
   ]
  },
  {
   "cell_type": "markdown",
   "metadata": {},
   "source": [
    "#### write a function called fizz_buzz  that takes a number.\n",
    "  => if number is divisible by 3,it should return \"Fizz\",\n",
    "  =>  if number is divisible by 5,it should return \"Buzz\",\n",
    "  =>if it is divisible by bot 3 and 5 , it should return \"FizzBuzz\",\n",
    "  => otherwise,return same number"
   ]
  },
  {
   "cell_type": "code",
   "execution_count": 5,
   "metadata": {},
   "outputs": [
    {
     "name": "stdout",
     "output_type": "stream",
     "text": [
      "Fizz\n"
     ]
    }
   ],
   "source": [
    "def fizz_buzz(num):\n",
    "    if num%3==0:\n",
    "        print(\"Fizz\")\n",
    "    elif num%5==0:\n",
    "        print(\"Buzz\")\n",
    "    elif num%3==0 and num%5==0:\n",
    "        print(\"FizzBuzz\")\n",
    "    else:\n",
    "        print(num)\n",
    "fizz_buzz(18)\n",
    "        \n",
    "        "
   ]
  },
  {
   "cell_type": "markdown",
   "metadata": {},
   "source": [
    "#### write a function for checking the speed of the driver.\n",
    "   => if speed<70, it should return \"ok\",\n",
    "   => otherwise for every 5 km above the speed limit(70) it should return demerit points,\n",
    "   => if driver got points more than  12,it should print\"license suspended."
   ]
  },
  {
   "cell_type": "code",
   "execution_count": 6,
   "metadata": {},
   "outputs": [
    {
     "name": "stdout",
     "output_type": "stream",
     "text": [
      "demerit points: 4.0\n"
     ]
    }
   ],
   "source": [
    "def drive(speed):\n",
    "    if speed<70:\n",
    "        print(ok)\n",
    "    else:\n",
    "        d=(((speed-75)/5)+1)\n",
    "        print(\"demerit points:\",d)\n",
    "    \n",
    "        if(d>12):\n",
    "            print(\"license suspended\")\n",
    "drive(90)"
   ]
  },
  {
   "cell_type": "markdown",
   "metadata": {},
   "source": [
    "#### write a function called shownumbers that takes a parameter called limit.It should print all the numbers between 0 and limit with a label to identify the even and odd numbers."
   ]
  },
  {
   "cell_type": "code",
   "execution_count": 8,
   "metadata": {},
   "outputs": [
    {
     "name": "stdout",
     "output_type": "stream",
     "text": [
      "0 even\n",
      "1 odd\n",
      "2 even\n",
      "3 odd\n",
      "4 even\n",
      "5 odd\n",
      "6 even\n",
      "7 odd\n"
     ]
    }
   ],
   "source": [
    "def shownumbers(limit):\n",
    "    for i in range(0,limit+1):\n",
    "        if i%2==0:\n",
    "            print(i,\"even\")\n",
    "        else:\n",
    "            print(i,\"odd\")\n",
    "shownumbers(7)"
   ]
  },
  {
   "cell_type": "markdown",
   "metadata": {},
   "source": [
    "#### write a function that returns the sum of multiples of 3 and 5 between 0 and limit(parameter). "
   ]
  },
  {
   "cell_type": "code",
   "execution_count": 9,
   "metadata": {},
   "outputs": [
    {
     "name": "stdout",
     "output_type": "stream",
     "text": [
      "0\n",
      "3\n",
      "8\n",
      "14\n",
      "23\n",
      "33\n",
      "45\n",
      "60\n"
     ]
    }
   ],
   "source": [
    "def num(limit):\n",
    "    sum=0\n",
    "    for i in range(0,limit+1):\n",
    "        if (i%3==0) or (i%5==0):\n",
    "            sum=sum+i\n",
    "            print(sum)\n",
    "num(15)"
   ]
  },
  {
   "cell_type": "code",
   "execution_count": null,
   "metadata": {},
   "outputs": [],
   "source": []
  }
 ],
 "metadata": {
  "kernelspec": {
   "display_name": "Python 3",
   "language": "python",
   "name": "python3"
  },
  "language_info": {
   "codemirror_mode": {
    "name": "ipython",
    "version": 3
   },
   "file_extension": ".py",
   "mimetype": "text/x-python",
   "name": "python",
   "nbconvert_exporter": "python",
   "pygments_lexer": "ipython3",
   "version": "3.8.5"
  }
 },
 "nbformat": 4,
 "nbformat_minor": 4
}
